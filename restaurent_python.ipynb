{
 "cells": [
  {
   "cell_type": "code",
   "execution_count": null,
   "metadata": {},
   "outputs": [],
   "source": [
    "  "
   ]
  },
  {
   "cell_type": "code",
   "execution_count": 14,
   "metadata": {},
   "outputs": [
    {
     "name": "stdout",
     "output_type": "stream",
     "text": [
      "\t\t********SHIVRAJ RESTAURENT********\n",
      " 1. Menu Card \n",
      " 2. Any Order\n",
      "Enter your choice1\n",
      " 1. Chaha\n",
      " 2. Pohe\n",
      " 3. Upma\n",
      " 4. Cofee\n",
      " 5. Maggie\n",
      "order2\n",
      "{'Pohe': 64}\n",
      "Enter any order(Y/N)y\n",
      " 1. Chaha\n",
      " 2. Pohe\n",
      " 3. Upma\n",
      " 4. Cofee\n",
      " 5. Maggie\n",
      "order1\n",
      "{'Chaha': 50}\n",
      "Enter any order(Y/N)n\n",
      "YOUR ORDERED ITEM = {'Pohe': 64, 'Chaha': 50}\n",
      "YOUR BILL AMOUNT IS = 114\n",
      "Thank You For Visiting\n",
      "None\n",
      "None\n"
     ]
    }
   ],
   "source": [
    "dic={}\n",
    "def menu():\n",
    "    print(\"\\t\\t********SHIVRAJ RESTAURENT********\")\n",
    "    print(\" 1. Menu Card\",\"\\n\",\"2. Any Order\")\n",
    "    print(rest())\n",
    "    \n",
    "def rest():\n",
    "    ord = int(input(\"Enter your choice\"))\n",
    "    if ord ==1:\n",
    "        print(Menu_Card())\n",
    "    \n",
    "    \n",
    "def Menu_Card():\n",
    "    print(\" 1. Chaha\\n\",\"2. Pohe\\n\",\"3. Upma\\n\",\"4. Cofee\\n\",\"5. Maggie\")\n",
    "    order_u = int(input(\"order\"))\n",
    "    \n",
    "    switcher = { \n",
    "         1: {'Chaha':50},\n",
    "         2: {'Pohe':64},\n",
    "         3: {'Upma':30},\n",
    "         4: {'Cofee':10},\n",
    "         5: {'Maggie':20}, \n",
    "    } \n",
    "    print(switcher.get(order_u))\n",
    "    dic.update(switcher.get(order_u))\n",
    "    c=input(\"Enter any order(Y/N)\")\n",
    "    if c == 'y':\n",
    "        Menu_Card()\n",
    "    else:\n",
    "        print(\"YOUR ORDERED ITEM =\",dic)\n",
    "        print(\"YOUR BILL AMOUNT IS =\",sum(dic.values()))\n",
    "        print(\"Thank You For Visiting\")\n",
    "        \n",
    "\n",
    "menu()\n"
   ]
  },
  {
   "cell_type": "code",
   "execution_count": null,
   "metadata": {},
   "outputs": [],
   "source": []
  }
 ],
 "metadata": {
  "kernelspec": {
   "display_name": "Python 3",
   "language": "python",
   "name": "python3"
  },
  "language_info": {
   "codemirror_mode": {
    "name": "ipython",
    "version": 3
   },
   "file_extension": ".py",
   "mimetype": "text/x-python",
   "name": "python",
   "nbconvert_exporter": "python",
   "pygments_lexer": "ipython3",
   "version": "3.8.5"
  }
 },
 "nbformat": 4,
 "nbformat_minor": 4
}
